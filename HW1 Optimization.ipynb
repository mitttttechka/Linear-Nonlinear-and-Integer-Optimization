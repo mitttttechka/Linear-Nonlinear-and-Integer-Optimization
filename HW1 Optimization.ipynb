{
 "cells": [
  {
   "cell_type": "code",
   "execution_count": 7,
   "id": "7f04a50e-7332-4f5f-9343-050b7232ee9c",
   "metadata": {},
   "outputs": [],
   "source": [
    "using JuMP\n",
    "using GLPK"
   ]
  },
  {
   "cell_type": "markdown",
   "id": "2d4643b4-dee4-4907-b5fa-5b5e52250562",
   "metadata": {},
   "source": [
    "# Exercise 1 \n",
    "A house wife wishes to mix two types of food F1 and F2 in such a way that the vitamin contents of the mixture contain at least 8 units of vitamin A and 11 units of vitamin B. Food F1 costs 60€/Kg and Food F2 costs 80€/kg. Food F1 contains 3 units/kg of vitamin A and 5 units/kg of vitamin B while Food F2 contains 4 units/kg of vitamin A and 2 units/kg of vitamin B. The goal is to minimize the cost of the mixtures."
   ]
  },
  {
   "cell_type": "markdown",
   "id": "c0a74bf1-809c-427a-92e1-5a32926f8d24",
   "metadata": {},
   "source": [
    "Formulating as a linear programming problem: let $x_1$, $x_2$ be the weights of F1 and F2 in the mix. \\\n",
    "Then: \\\n",
    "min z(x) =    60$x_1$ + 80$x_2$        (0) - minimizing cost of the mixture \\\n",
    "                     3$x_1$ + 4$x_2$ >= 8    (1) - requirement for vitamin A in the mixture \\\n",
    "                     5$x_1$ + 2$x_2$ >= 11   (2) - requirement for vitamin B in the mixture \\\n",
    "                     $x_1$, $x_2$ >= 0           (3) - weights can't be negative \n"
   ]
  },
  {
   "cell_type": "code",
   "execution_count": 60,
   "id": "6be4470a-a65f-439c-a788-73a40123df8b",
   "metadata": {},
   "outputs": [
    {
     "data": {
      "text/plain": [
       "A JuMP Model\n",
       "Feasibility problem with:\n",
       "Variables: 0\n",
       "Model mode: AUTOMATIC\n",
       "CachingOptimizer state: EMPTY_OPTIMIZER\n",
       "Solver name: GLPK"
      ]
     },
     "execution_count": 60,
     "metadata": {},
     "output_type": "execute_result"
    }
   ],
   "source": [
    "model1 = Model(GLPK.Optimizer)"
   ]
  },
  {
   "cell_type": "code",
   "execution_count": 61,
   "id": "22742917-e304-4ecc-960d-6a8f2ebf78fa",
   "metadata": {},
   "outputs": [
    {
     "data": {
      "text/latex": [
       "$ x2 $"
      ],
      "text/plain": [
       "x2"
      ]
     },
     "execution_count": 61,
     "metadata": {},
     "output_type": "execute_result"
    }
   ],
   "source": [
    "@variable(model1, x1 >= 0)\n",
    "@variable(model1, x2 >= 0)"
   ]
  },
  {
   "cell_type": "code",
   "execution_count": 62,
   "id": "1a99c18a-5ddc-4fb4-983b-e7dd1370833a",
   "metadata": {},
   "outputs": [
    {
     "data": {
      "text/latex": [
       "$ 60 x1 + 80 x2 $"
      ],
      "text/plain": [
       "60 x1 + 80 x2"
      ]
     },
     "execution_count": 62,
     "metadata": {},
     "output_type": "execute_result"
    }
   ],
   "source": [
    "@objective(model1, Min, 60x1 + 80x2)"
   ]
  },
  {
   "cell_type": "code",
   "execution_count": 63,
   "id": "9f77260e-6540-422d-94a9-fa3109ac2804",
   "metadata": {},
   "outputs": [
    {
     "data": {
      "text/latex": [
       "$$ 5 x1 + 2 x2 \\geq 11 $$"
      ],
      "text/plain": [
       "cst2 : 5 x1 + 2 x2 ≥ 11"
      ]
     },
     "execution_count": 63,
     "metadata": {},
     "output_type": "execute_result"
    }
   ],
   "source": [
    "@constraint(model1, cst1, 3x1 + 4x2 >= 8)\n",
    "@constraint(model1, cst2, 5x1 + 2x2 >= 11)"
   ]
  },
  {
   "cell_type": "code",
   "execution_count": 64,
   "id": "246bc4dd-d559-430b-bba8-fdd5b5c4c8aa",
   "metadata": {},
   "outputs": [
    {
     "data": {
      "text/latex": [
       "$$ \\begin{aligned}\n",
       "\\min\\quad & 60 x1 + 80 x2\\\\\n",
       "\\text{Subject to} \\quad & 3 x1 + 4 x2 \\geq 8\\\\\n",
       " & 5 x1 + 2 x2 \\geq 11\\\\\n",
       " & x1 \\geq 0\\\\\n",
       " & x2 \\geq 0\\\\\n",
       "\\end{aligned} $$"
      ]
     },
     "metadata": {},
     "output_type": "display_data"
    }
   ],
   "source": [
    "print(model1)"
   ]
  },
  {
   "cell_type": "code",
   "execution_count": 65,
   "id": "5181344b-1fff-40d0-b884-0564f2bfd692",
   "metadata": {},
   "outputs": [],
   "source": [
    "optimize!(model1)"
   ]
  },
  {
   "cell_type": "code",
   "execution_count": 66,
   "id": "4513b014-03c3-4183-bd7f-4d4ac677d575",
   "metadata": {},
   "outputs": [
    {
     "name": "stdout",
     "output_type": "stream",
     "text": [
      "termination_status(model1) = MathOptInterface.OPTIMAL\n",
      "primal_status(model1) = MathOptInterface.FEASIBLE_POINT\n"
     ]
    },
    {
     "data": {
      "text/plain": [
       "FEASIBLE_POINT::ResultStatusCode = 1"
      ]
     },
     "execution_count": 66,
     "metadata": {},
     "output_type": "execute_result"
    }
   ],
   "source": [
    "@show termination_status(model1)\n",
    "@show primal_status(model1)"
   ]
  },
  {
   "cell_type": "code",
   "execution_count": 67,
   "id": "0d68b57b-46b9-48ca-b592-1acd19c88ba6",
   "metadata": {},
   "outputs": [
    {
     "name": "stdout",
     "output_type": "stream",
     "text": [
      "objective_value(model1) = 160.00000000000003\n",
      "value(x1) = 2.666666666666667\n",
      "value(x2) = 0.0\n"
     ]
    },
    {
     "data": {
      "text/plain": [
       "0.0"
      ]
     },
     "execution_count": 67,
     "metadata": {},
     "output_type": "execute_result"
    }
   ],
   "source": [
    "@show objective_value(model1)\n",
    "@show value(x1)\n",
    "@show value(x2)"
   ]
  },
  {
   "cell_type": "code",
   "execution_count": 68,
   "id": "f864650f-a85e-44e2-947a-9aedd50e96a2",
   "metadata": {},
   "outputs": [
    {
     "data": {
      "text/plain": [
       "* Solver : GLPK\n",
       "\n",
       "* Status\n",
       "  Result count       : 1\n",
       "  Termination status : OPTIMAL\n",
       "  Message from the solver:\n",
       "  \"Solution is optimal\"\n",
       "\n",
       "* Candidate solution (result #1)\n",
       "  Primal status      : FEASIBLE_POINT\n",
       "  Dual status        : FEASIBLE_POINT\n",
       "  Objective value    : 1.60000e+02\n",
       "  Objective bound    : -Inf\n",
       "  Dual objective value : 1.60000e+02\n",
       "\n",
       "* Work counters\n",
       "  Solve time (sec)   : 5.00679e-05\n"
      ]
     },
     "execution_count": 68,
     "metadata": {},
     "output_type": "execute_result"
    }
   ],
   "source": [
    "solution_summary(model1)"
   ]
  },
  {
   "cell_type": "markdown",
   "id": "6a70c87a-8f97-4157-bbc5-127cc6c28bca",
   "metadata": {},
   "source": [
    "## Answer\n",
    "House wife should use $2\\frac{2}{3}$kg of food F1 and no food F2.\n",
    "The cost of the mixture will be 160 Euros."
   ]
  },
  {
   "cell_type": "markdown",
   "id": "903e144d-2e77-436b-b7c5-995245ac182a",
   "metadata": {
    "jp-MarkdownHeadingCollapsed": true
   },
   "source": [
    "# Exercise 2\n",
    "A store has requested a manufacturer to produce pants and sports jackets. For materials, the manufacturer has 750𝑚2 of cotton textile and 1000𝑚2 of polyester. Every pair of pants (1 unit) needs 1𝑚2 of cotton and 2𝑚2 of polyester. Every jacket needs 1.5𝑚2 of cotton and 1𝑚2 of polyester. The price of the pants is fixed at 50€ and the jacket, 40€. What is the number of pants and jackets that the manufacturer must give to the stores so that these items obtain a maximum sale?"
   ]
  },
  {
   "cell_type": "markdown",
   "id": "6272ab87-61b8-4e28-ae7a-61d741a39d41",
   "metadata": {},
   "source": [
    "Formulating as a linear programming problem: let $x_1$, $x_2$ be numbers of jeans and jackets. \\\n",
    "Then: \\\n",
    "max z(x) =    50$x_1$ + 40$x_2$             (0) - maximizing profit from items \\\n",
    "                      $x_1$ + 1.5$x_2$ <= 750     (1) - available $m^2$ of cotton textile \\\n",
    "                      2$x_1$ + $x_2$ <= 1000     (2) - available $m^2$ of polyester \\\n",
    "                      $x_1$, $x_2$ >= 0                (3) - numbers can't be negative and must be integers \\\n",
    "                      $x_1, x_2 \\in \\mathbb{N}$\n"
   ]
  },
  {
   "cell_type": "code",
   "execution_count": 69,
   "id": "7b623d1d-9ded-45aa-b243-c33b764d41cc",
   "metadata": {},
   "outputs": [
    {
     "data": {
      "text/plain": [
       "A JuMP Model\n",
       "Feasibility problem with:\n",
       "Variables: 0\n",
       "Model mode: AUTOMATIC\n",
       "CachingOptimizer state: EMPTY_OPTIMIZER\n",
       "Solver name: GLPK"
      ]
     },
     "execution_count": 69,
     "metadata": {},
     "output_type": "execute_result"
    }
   ],
   "source": [
    "model2 = Model(GLPK.Optimizer)"
   ]
  },
  {
   "cell_type": "code",
   "execution_count": 70,
   "id": "add35096-1f3c-45f3-a2ce-448bd4780b4c",
   "metadata": {},
   "outputs": [
    {
     "data": {
      "text/latex": [
       "$ x2 $"
      ],
      "text/plain": [
       "x2"
      ]
     },
     "execution_count": 70,
     "metadata": {},
     "output_type": "execute_result"
    }
   ],
   "source": [
    "@variable(model2, x1 >= 0, Int)\n",
    "@variable(model2, x2 >= 0, Int)"
   ]
  },
  {
   "cell_type": "code",
   "execution_count": 72,
   "id": "bb9ce391-2091-45b3-b8f8-6b23efa2cfca",
   "metadata": {},
   "outputs": [
    {
     "data": {
      "text/latex": [
       "$ 50 x1 + 40 x2 $"
      ],
      "text/plain": [
       "50 x1 + 40 x2"
      ]
     },
     "execution_count": 72,
     "metadata": {},
     "output_type": "execute_result"
    }
   ],
   "source": [
    "@objective(model2, Max, 50x1 + 40x2)"
   ]
  },
  {
   "cell_type": "code",
   "execution_count": 73,
   "id": "949a586e-c80a-466a-9e96-bfe22f3e13fe",
   "metadata": {},
   "outputs": [
    {
     "data": {
      "text/latex": [
       "$$ 2 x1 + x2 \\leq 1000 $$"
      ],
      "text/plain": [
       "cst2 : 2 x1 + x2 ≤ 1000"
      ]
     },
     "execution_count": 73,
     "metadata": {},
     "output_type": "execute_result"
    }
   ],
   "source": [
    "@constraint(model2, cst1, x1 + 1.5x2 <= 750)\n",
    "@constraint(model2, cst2, 2x1 + x2 <= 1000)"
   ]
  },
  {
   "cell_type": "code",
   "execution_count": 74,
   "id": "8a2758df-af75-43f0-b2ca-ffcbac699009",
   "metadata": {},
   "outputs": [
    {
     "data": {
      "text/latex": [
       "$$ \\begin{aligned}\n",
       "\\max\\quad & 50 x1 + 40 x2\\\\\n",
       "\\text{Subject to} \\quad & x1 + 1.5 x2 \\leq 750\\\\\n",
       " & 2 x1 + x2 \\leq 1000\\\\\n",
       " & x1 \\geq 0\\\\\n",
       " & x2 \\geq 0\\\\\n",
       " & x1 \\in \\mathbb{Z}\\\\\n",
       " & x2 \\in \\mathbb{Z}\\\\\n",
       "\\end{aligned} $$"
      ]
     },
     "metadata": {},
     "output_type": "display_data"
    }
   ],
   "source": [
    "print(model2)"
   ]
  },
  {
   "cell_type": "code",
   "execution_count": 75,
   "id": "121da483-77cf-4b7a-a5df-66ecf2eb3f80",
   "metadata": {},
   "outputs": [],
   "source": [
    "optimize!(model2)"
   ]
  },
  {
   "cell_type": "code",
   "execution_count": 76,
   "id": "2a20e0d9-1715-449f-b12c-f24d841929a9",
   "metadata": {},
   "outputs": [
    {
     "name": "stdout",
     "output_type": "stream",
     "text": [
      "termination_status(model2) = MathOptInterface.OPTIMAL\n",
      "primal_status(model2) = MathOptInterface.FEASIBLE_POINT\n"
     ]
    },
    {
     "data": {
      "text/plain": [
       "FEASIBLE_POINT::ResultStatusCode = 1"
      ]
     },
     "execution_count": 76,
     "metadata": {},
     "output_type": "execute_result"
    }
   ],
   "source": [
    "@show termination_status(model2)\n",
    "@show primal_status(model2)"
   ]
  },
  {
   "cell_type": "code",
   "execution_count": 78,
   "id": "39c698c0-7522-4582-8b35-047da5042ae4",
   "metadata": {},
   "outputs": [
    {
     "name": "stdout",
     "output_type": "stream",
     "text": [
      "objective_value(model2) = 28750.0\n",
      "value(x1) = 375.0\n",
      "value(x2) = 250.0\n"
     ]
    },
    {
     "data": {
      "text/plain": [
       "250.0"
      ]
     },
     "execution_count": 78,
     "metadata": {},
     "output_type": "execute_result"
    }
   ],
   "source": [
    "@show objective_value(model2)\n",
    "@show value(x1)\n",
    "@show value(x2)"
   ]
  },
  {
   "cell_type": "code",
   "execution_count": 80,
   "id": "6031f0c7-e7a8-4ae3-97df-9f899d226e47",
   "metadata": {},
   "outputs": [
    {
     "data": {
      "text/plain": [
       "* Solver : GLPK\n",
       "\n",
       "* Status\n",
       "  Result count       : 1\n",
       "  Termination status : OPTIMAL\n",
       "  Message from the solver:\n",
       "  \"Solution is optimal\"\n",
       "\n",
       "* Candidate solution (result #1)\n",
       "  Primal status      : FEASIBLE_POINT\n",
       "  Dual status        : NO_SOLUTION\n",
       "  Objective value    : 2.87500e+04\n",
       "  Objective bound    : 2.87500e+04\n",
       "  Relative gap       : 0.00000e+00\n",
       "\n",
       "* Work counters\n",
       "  Solve time (sec)   : 1.71494e-03\n"
      ]
     },
     "execution_count": 80,
     "metadata": {},
     "output_type": "execute_result"
    }
   ],
   "source": [
    "solution_summary(model2)"
   ]
  },
  {
   "cell_type": "markdown",
   "id": "72254cdf-425d-4078-92fa-5a40d7d8c27e",
   "metadata": {},
   "source": [
    "## Answer\n",
    "The manufacturer must give to the stores 375 jeans and 250 jackets. \\\n",
    "The overall income will be 28750 Euros."
   ]
  },
  {
   "cell_type": "markdown",
   "id": "2396a5fc-3351-45cb-b12e-14aa01246d42",
   "metadata": {},
   "source": [
    "# Exercise 3\n",
    "MetaCorp is considering four investments. Investment 1 will yield a net present value (NPV) of 16000€; investment 2, an NPV of 22000€; investment 3, an NPV of 12000€; and investment 4, an NPV of 8000€. Each investment requires a certain cash outflow at the present time: investment 1, 5000€; investment 2, 7000€; investment 3, 4000€; and investment 4, 3000€. At present, 14000€ is available for investment. Formulate a linear programming problem whose solution will tell MetaCorp how to maximize the NPV obtained from investiments 1 − 4."
   ]
  },
  {
   "cell_type": "markdown",
   "id": "4a295a0f-309a-4c14-b340-d17702d1e9c8",
   "metadata": {},
   "source": [
    "Formulating as a linear programming problem: let $x_1, x_2, x_3, x_4$ be the signals if investment was made or not. \\\n",
    "Then: \\\n",
    "max z(x) =    $16000x_1 + 22000x_2 + 12000x_3 + 8000x_4$                     (0) - maximizing profit from investments \\\n",
    "                      $5000x_1 + 7000x_2 + 4000x_3 + 3000x_4 <= 14000$       (1) - available funds for invertments now \\\n",
    "                      $x_1, x_2, x_3, x_4 \\in \\{0; 1\\}$                                                         (2) - investment can be made or not and only once\n",
    "\n",
    "Let's make an implicit model this time as there are more variables. \\\n",
    "c = (16000, 22000, 12000, 8000) \\\n",
    "d = (14) \\\n",
    "T = (5000, 7000, 4000, 3000)"
   ]
  },
  {
   "cell_type": "code",
   "execution_count": 98,
   "id": "b70e3cca-4ac3-412e-afad-ad0efea59485",
   "metadata": {},
   "outputs": [
    {
     "data": {
      "text/plain": [
       "(1, 4)"
      ]
     },
     "execution_count": 98,
     "metadata": {},
     "output_type": "execute_result"
    }
   ],
   "source": [
    "c = [16000, 22000, 12000, 8000]\n",
    "d = [14000]\n",
    "T = [5000 7000 4000 3000]\n",
    "n, m = size(T)"
   ]
  },
  {
   "cell_type": "code",
   "execution_count": 99,
   "id": "9394a05c-d8b2-45b8-89d3-d82a78060612",
   "metadata": {},
   "outputs": [
    {
     "data": {
      "text/plain": [
       "1-element Vector{ConstraintRef{Model, MathOptInterface.ConstraintIndex{MathOptInterface.ScalarAffineFunction{Float64}, MathOptInterface.LessThan{Float64}}, ScalarShape}}:\n",
       " cst[1] : 5000 x[1] + 7000 x[2] + 4000 x[3] + 3000 x[4] ≤ 14000"
      ]
     },
     "execution_count": 99,
     "metadata": {},
     "output_type": "execute_result"
    }
   ],
   "source": [
    "model3 = Model(GLPK.Optimizer)\n",
    "@variable(model3, x[1:m], Bin)\n",
    "@objective(model3, Max, sum(c[j]*x[j] for j=1:m))\n",
    "@constraint(model3, cst[i=1:n], sum(T[i,j]*x[j] for j=1:m) <= d[i])"
   ]
  },
  {
   "cell_type": "code",
   "execution_count": 100,
   "id": "dd9203a3-83d8-4a73-915e-ccc0bd28835f",
   "metadata": {},
   "outputs": [
    {
     "data": {
      "text/latex": [
       "$$ \\begin{aligned}\n",
       "\\max\\quad & 16000 x_{1} + 22000 x_{2} + 12000 x_{3} + 8000 x_{4}\\\\\n",
       "\\text{Subject to} \\quad & 5000 x_{1} + 7000 x_{2} + 4000 x_{3} + 3000 x_{4} \\leq 14000\\\\\n",
       " & x_{1} \\in \\{0, 1\\}\\\\\n",
       " & x_{2} \\in \\{0, 1\\}\\\\\n",
       " & x_{3} \\in \\{0, 1\\}\\\\\n",
       " & x_{4} \\in \\{0, 1\\}\\\\\n",
       "\\end{aligned} $$"
      ]
     },
     "metadata": {},
     "output_type": "display_data"
    }
   ],
   "source": [
    "print(model3)"
   ]
  },
  {
   "cell_type": "code",
   "execution_count": 101,
   "id": "2e3e95c4-4082-4077-bcbb-d9e3d96dd450",
   "metadata": {},
   "outputs": [],
   "source": [
    "optimize!(model3)"
   ]
  },
  {
   "cell_type": "code",
   "execution_count": 102,
   "id": "fe8a9f80-67cf-49bf-a20c-b9c2562cb3e5",
   "metadata": {},
   "outputs": [
    {
     "name": "stdout",
     "output_type": "stream",
     "text": [
      "termination_status(model3) = MathOptInterface.OPTIMAL\n",
      "primal_status(model3) = MathOptInterface.FEASIBLE_POINT\n"
     ]
    },
    {
     "data": {
      "text/plain": [
       "FEASIBLE_POINT::ResultStatusCode = 1"
      ]
     },
     "execution_count": 102,
     "metadata": {},
     "output_type": "execute_result"
    }
   ],
   "source": [
    "@show termination_status(model3)\n",
    "@show primal_status(model3)"
   ]
  },
  {
   "cell_type": "code",
   "execution_count": 103,
   "id": "ec87e0b5-fa04-4043-9ea0-f561d8fec345",
   "metadata": {},
   "outputs": [
    {
     "name": "stdout",
     "output_type": "stream",
     "text": [
      "objective_value(model3) = 42000.0\n",
      "value.(x) = [0.0, 1.0, 1.0, 1.0]\n"
     ]
    },
    {
     "data": {
      "text/plain": [
       "4-element Vector{Float64}:\n",
       " 0.0\n",
       " 1.0\n",
       " 1.0\n",
       " 1.0"
      ]
     },
     "execution_count": 103,
     "metadata": {},
     "output_type": "execute_result"
    }
   ],
   "source": [
    "@show objective_value(model3)\n",
    "@show value.(x)"
   ]
  },
  {
   "cell_type": "code",
   "execution_count": 106,
   "id": "79ff0c72-1acf-45ba-b4c3-7121ea750bda",
   "metadata": {},
   "outputs": [
    {
     "data": {
      "text/plain": [
       "* Solver : GLPK\n",
       "\n",
       "* Status\n",
       "  Result count       : 1\n",
       "  Termination status : OPTIMAL\n",
       "  Message from the solver:\n",
       "  \"Solution is optimal\"\n",
       "\n",
       "* Candidate solution (result #1)\n",
       "  Primal status      : FEASIBLE_POINT\n",
       "  Dual status        : NO_SOLUTION\n",
       "  Objective value    : 4.20000e+04\n",
       "  Objective bound    : 4.20000e+04\n",
       "  Relative gap       : 0.00000e+00\n",
       "\n",
       "* Work counters\n",
       "  Solve time (sec)   : 1.31130e-04\n"
      ]
     },
     "execution_count": 106,
     "metadata": {},
     "output_type": "execute_result"
    }
   ],
   "source": [
    "solution_summary(model3)"
   ]
  },
  {
   "cell_type": "markdown",
   "id": "e653724c-139d-4d0e-b100-16c447796156",
   "metadata": {},
   "source": [
    "## Answer \n",
    "MetaCorp should make Investments # 2, 3, 4 \\\n",
    "They will recieve 42000 Euros."
   ]
  }
 ],
 "metadata": {
  "kernelspec": {
   "display_name": "Julia 1.9.3",
   "language": "julia",
   "name": "julia-1.9"
  },
  "language_info": {
   "file_extension": ".jl",
   "mimetype": "application/julia",
   "name": "julia",
   "version": "1.9.3"
  }
 },
 "nbformat": 4,
 "nbformat_minor": 5
}
