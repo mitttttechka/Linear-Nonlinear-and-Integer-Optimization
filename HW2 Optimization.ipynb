{
 "cells": [
  {
   "cell_type": "code",
   "execution_count": 2,
   "id": "67797126-d4a3-4ca6-af94-e0ac7314eb15",
   "metadata": {},
   "outputs": [],
   "source": [
    "using JuMP\n",
    "using GLPK"
   ]
  },
  {
   "cell_type": "markdown",
   "id": "084de5aa-7436-44a0-b9b9-da65efb624fa",
   "metadata": {
    "jp-MarkdownHeadingCollapsed": true
   },
   "source": [
    "# Exercise 1 \n",
    "Consider the following table indicating the nutritional value of different food types:"
   ]
  },
  {
   "cell_type": "markdown",
   "id": "60f1a14a-b25d-4489-86f7-53556dee8386",
   "metadata": {},
   "source": [
    "|Foods|Price($) per serving|Calories per serving|Fat(g) per serving|Protein(g) per serving|Carbohydrate(g) per serving|\n",
    "|---|---|---|---|---|---|\n",
    "|Raw carrots|0.14|23|0.1|0.6|6|\n",
    "|Baked potatoes|0.12|171|0.2|3.7|30|\n",
    "|Wheat bread|0.2|65|0|2.2|13|\n",
    "|Cheddar cheese|0.75|112|9.3|7|0|\n",
    "|Peanut butter|0.15|188|16|7.7|2|"
   ]
  },
  {
   "cell_type": "markdown",
   "id": "6f133ea0-218f-484d-b1a9-a40d1c6aa95e",
   "metadata": {},
   "source": [
    "You need to decide how many servings of each food to buy each day so that you minimize the total cost of buying food while satisfying the following daily nutritional requirements:\n",
    "-  Calories >= 2000 \n",
    "-  Fat >= 50g\n",
    "-  Protein >= 100g\n",
    "-  Carbohydrates >= 250g"
   ]
  },
  {
   "cell_type": "markdown",
   "id": "9585cc64-af36-435b-8410-9a2f16af33a9",
   "metadata": {},
   "source": [
    "Formulating as a linear programming problem: let $x_1, x_2, x_3, x_4, x_5$ be the number of servings of each food in a ration. \\\n",
    "Then: \\\n",
    "min z(x) =    $0.14x_1 + 0.12x_2 + 0.2x_3 + 0.75x_4 + 0.15x_5$                     (0) - minimizing overall cost \\\n",
    "                     $23x_1 + 171x_2 + 65x_3 + 112x_4 + 188x_5 >= 2000$           (1) - requirement for calories \\\n",
    "                     $0.1x_1 + 0.2x_2 + 0x_3 + 9.3x_4 + 16x_5 >= 50$                    (2) - requirement for fats \\\n",
    "                     $0.6x_1 + 3.7x_2 + 2.2x_3 + 7x_4 + 7.7x_5 >= 100$                (3) - requirement for proteins \\\n",
    "                     $6x_1 + 30x_2 + 13x_3 + 0x_4 + 2x_5 >= 250$                         (4) - requirement for carbohydrates \\\n",
    "                     $x_1, x_2, x_3, x_4, x_5 >= 0$                                                          (5) - investment can be made or not and only once\n",
    "\n",
    "Let's make an implicit model this time as there are more variables. \\\n",
    "c = [0.14, 0.12, 0.2, 0.75, 0.15] \\\n",
    "d = [2000, 50, 100, 250] \\\n",
    "T = [23 171 65 112 188 ; 0.1 0.2 0 9.3 16 ; 0.6 3.7 2.2 7 7.7 ; 6 30 13 0 2]"
   ]
  },
  {
   "cell_type": "code",
   "execution_count": 5,
   "id": "1a4edf35-9acd-4617-98ff-5247d69d521f",
   "metadata": {},
   "outputs": [
    {
     "data": {
      "text/plain": [
       "(4, 5)"
      ]
     },
     "execution_count": 5,
     "metadata": {},
     "output_type": "execute_result"
    }
   ],
   "source": [
    "c = [0.14, 0.12, 0.2, 0.75, 0.15]\n",
    "d = [2000, 50, 100, 250]\n",
    "T = [23 171 65 112 188 ; 0.1 0.2 0 9.3 16 ; 0.6 3.7 2.2 7 7.7 ; 6 30 13 0 2]\n",
    "n, m = size(T)"
   ]
  },
  {
   "cell_type": "code",
   "execution_count": 7,
   "id": "321854c3-15a8-4daa-ae54-4020d6d23f84",
   "metadata": {},
   "outputs": [
    {
     "data": {
      "text/plain": [
       "4-element Vector{ConstraintRef{Model, MathOptInterface.ConstraintIndex{MathOptInterface.ScalarAffineFunction{Float64}, MathOptInterface.GreaterThan{Float64}}, ScalarShape}}:\n",
       " cst[1] : 23 x[1] + 171 x[2] + 65 x[3] + 112 x[4] + 188 x[5] ≥ 2000\n",
       " cst[2] : 0.1 x[1] + 0.2 x[2] + 9.3 x[4] + 16 x[5] ≥ 50\n",
       " cst[3] : 0.6 x[1] + 3.7 x[2] + 2.2 x[3] + 7 x[4] + 7.7 x[5] ≥ 100\n",
       " cst[4] : 6 x[1] + 30 x[2] + 13 x[3] + 2 x[5] ≥ 250"
      ]
     },
     "execution_count": 7,
     "metadata": {},
     "output_type": "execute_result"
    }
   ],
   "source": [
    "model = Model(GLPK.Optimizer)\n",
    "@variable(model, x[1:m] >= 0)\n",
    "@objective(model, Min, sum(c[j]*x[j] for j=1:m))\n",
    "@constraint(model, cst[i=1:n], sum(T[i,j]*x[j] for j=1:m) >= d[i])"
   ]
  },
  {
   "cell_type": "code",
   "execution_count": 8,
   "id": "dd7fbdca-af06-4e44-b785-1e3f16b36bf6",
   "metadata": {},
   "outputs": [
    {
     "data": {
      "text/latex": [
       "$$ \\begin{aligned}\n",
       "\\min\\quad & 0.14 x_{1} + 0.12 x_{2} + 0.2 x_{3} + 0.75 x_{4} + 0.15 x_{5}\\\\\n",
       "\\text{Subject to} \\quad & 23 x_{1} + 171 x_{2} + 65 x_{3} + 112 x_{4} + 188 x_{5} \\geq 2000\\\\\n",
       " & 0.1 x_{1} + 0.2 x_{2} + 9.3 x_{4} + 16 x_{5} \\geq 50\\\\\n",
       " & 0.6 x_{1} + 3.7 x_{2} + 2.2 x_{3} + 7 x_{4} + 7.7 x_{5} \\geq 100\\\\\n",
       " & 6 x_{1} + 30 x_{2} + 13 x_{3} + 2 x_{5} \\geq 250\\\\\n",
       " & x_{1} \\geq 0\\\\\n",
       " & x_{2} \\geq 0\\\\\n",
       " & x_{3} \\geq 0\\\\\n",
       " & x_{4} \\geq 0\\\\\n",
       " & x_{5} \\geq 0\\\\\n",
       "\\end{aligned} $$"
      ]
     },
     "metadata": {},
     "output_type": "display_data"
    }
   ],
   "source": [
    "print(model)"
   ]
  },
  {
   "cell_type": "code",
   "execution_count": 9,
   "id": "410d517a-2573-4efa-9702-ad5a65fe5b27",
   "metadata": {},
   "outputs": [],
   "source": [
    "optimize!(model)"
   ]
  },
  {
   "cell_type": "code",
   "execution_count": 10,
   "id": "d0447c3a-05b9-46d2-b600-270f9a86a2d6",
   "metadata": {},
   "outputs": [
    {
     "name": "stdout",
     "output_type": "stream",
     "text": [
      "termination_status(model) = MathOptInterface.OPTIMAL\n",
      "primal_status(model) = MathOptInterface.FEASIBLE_POINT\n"
     ]
    },
    {
     "data": {
      "text/plain": [
       "FEASIBLE_POINT::ResultStatusCode = 1"
      ]
     },
     "execution_count": 10,
     "metadata": {},
     "output_type": "execute_result"
    }
   ],
   "source": [
    "@show termination_status(model)\n",
    "@show primal_status(model)"
   ]
  },
  {
   "cell_type": "code",
   "execution_count": 11,
   "id": "a5edf495-809d-4fb3-8285-e29716372c3a",
   "metadata": {},
   "outputs": [
    {
     "name": "stdout",
     "output_type": "stream",
     "text": [
      "objective_value(model) = 2.317754919499105\n",
      "value.(x) = [0.0, 7.714669051878354, 0.0, 0.0, 9.279964221824686]\n"
     ]
    },
    {
     "data": {
      "text/plain": [
       "5-element Vector{Float64}:\n",
       " 0.0\n",
       " 7.714669051878354\n",
       " 0.0\n",
       " 0.0\n",
       " 9.279964221824686"
      ]
     },
     "execution_count": 11,
     "metadata": {},
     "output_type": "execute_result"
    }
   ],
   "source": [
    "@show objective_value(model)\n",
    "@show value.(x)"
   ]
  },
  {
   "cell_type": "code",
   "execution_count": 12,
   "id": "77763f68-11f8-4a25-9e31-23b79dfbe963",
   "metadata": {},
   "outputs": [
    {
     "data": {
      "text/plain": [
       "* Solver : GLPK\n",
       "\n",
       "* Status\n",
       "  Result count       : 1\n",
       "  Termination status : OPTIMAL\n",
       "  Message from the solver:\n",
       "  \"Solution is optimal\"\n",
       "\n",
       "* Candidate solution (result #1)\n",
       "  Primal status      : FEASIBLE_POINT\n",
       "  Dual status        : FEASIBLE_POINT\n",
       "  Objective value    : 2.31775e+00\n",
       "  Objective bound    : -Inf\n",
       "  Dual objective value : 2.31775e+00\n",
       "\n",
       "* Work counters\n",
       "  Solve time (sec)   : 6.56128e-04\n"
      ]
     },
     "execution_count": 12,
     "metadata": {},
     "output_type": "execute_result"
    }
   ],
   "source": [
    "solution_summary(model)"
   ]
  },
  {
   "cell_type": "markdown",
   "id": "a56dfa63-7d08-4d07-99d9-3f8ec98152c6",
   "metadata": {},
   "source": [
    "## Answer \n",
    "To meet all the nutritional requirements at the minimal costs, it's recommended to buy each day 7.7 servings of baked potatoes and 9.3 servings of peanut butter. \\\n",
    "It will cost 2.32 $ (which is still not healthy at all)"
   ]
  },
  {
   "cell_type": "markdown",
   "id": "e115ec56-b83a-4cad-bf4d-c66b5fb36ea0",
   "metadata": {
    "jp-MarkdownHeadingCollapsed": true
   },
   "source": [
    "# Exercise 2\n",
    "MUCOW (Milk Undertakings, C and O, Waterloo) owns a herd of Holstein cows and a herd of Jersey cows. For each herd, the total number of litres produced each day, and milk-fat content (as a percentage) are as follows:"
   ]
  },
  {
   "cell_type": "markdown",
   "id": "ca462d57-d387-4d45-bdda-e2100260b132",
   "metadata": {},
   "source": [
    "||Litres produced|Percent milk-fat|\n",
    "|---|---|---|\n",
    "|Holstein|500|3.7|\n",
    "|Jersey|250|4.9|\n"
   ]
  },
  {
   "cell_type": "markdown",
   "id": "50fbd8e7-f8fa-4f8c-9580-7a57c100c68b",
   "metadata": {},
   "source": [
    "The fat is split off and blended again to create various products. For each product, the volume, required milk-fat percentage, and profit are as follows. In particular, the milk-fat percentage must exactly equal what is specified."
   ]
  },
  {
   "cell_type": "markdown",
   "id": "0709fce4-aaca-441c-9172-381347ea570e",
   "metadata": {},
   "source": [
    "||Skimmed milk|2%|Whole milk|Table cream|Whipping cream|\n",
    "|---|---|---|---|---|---|\n",
    "|Volume(litres)|2|2|2|0.6|0.3|\n",
    "|Milk-fat requirement|0%|2%|4%|15%|45%|\n",
    "|Profit($)|0.1|0.15|0.2|0.5|1.2|"
   ]
  },
  {
   "cell_type": "markdown",
   "id": "af3ad415-9507-4888-805c-9384ac4d11f4",
   "metadata": {},
   "source": [
    "(a) Formulate as an LP the problem of deciding how many items of each product to produce to maximize the total profit. \\\n",
    "Formulating as a linear programming problem: let $x_1, x_2, x_3, x_4, x_5$ be the number of each product to be produced. \\\n",
    "Then: \\\n",
    "max z(x) =    $0.1x_1 + 0.15x_2 + 0.2x_3 + 0.5x_4 + 1.2x_5$                                                                                                                                (0) - maximizing overall profit \\\n",
    "                     $2x_1 + 2x_2 + 2x_3 + 0.6x_4 + 0.3x_5 <= 750$                                                                                                                              (1) - constraint for volume \\\n",
    "                     $(0*2)x_1 + (0.02*2)x_2 + (0.04*2)x_3 + (0.15*0.6)x_4 + (0.45*0.3)x_5 <= 500*0.037 + 250*0.049$              (2) - constraint for available fats \\\n",
    "                     $x_1, x_2, x_3, x_4, x_5 >= 0$                                                                                                                                                                 (3) - number items can't be negative \\\n",
    "In matrix notation:\n",
    "\n",
    "      (2    2      2     0.6    0.3)\\\n",
    "A = 0 0.04 0.08 0.09 0.135 \n",
    "\n",
    "b = (750 30.75)\n",
    "\n",
    "c = (0.1 0.15 0.2 0.5 1.2)\n",
    "                     "
   ]
  },
  {
   "cell_type": "code",
   "execution_count": 23,
   "id": "611cccc9-60ea-4c0c-b640-9554ece30ccb",
   "metadata": {},
   "outputs": [
    {
     "data": {
      "text/plain": [
       "(2, 5)"
      ]
     },
     "execution_count": 23,
     "metadata": {},
     "output_type": "execute_result"
    }
   ],
   "source": [
    "c = [0.1, 0.15, 0.2, 0.5, 1.2]\n",
    "d = [750 30.75]\n",
    "T = [2 2 2 0.6 0.3 ;0 0.04 0.08 0.09 0.135]\n",
    "n, m = size(T)"
   ]
  },
  {
   "cell_type": "code",
   "execution_count": 15,
   "id": "52c284db-5e2f-417b-91ae-d74700c4be9d",
   "metadata": {},
   "outputs": [
    {
     "data": {
      "text/plain": [
       "2-element Vector{ConstraintRef{Model, MathOptInterface.ConstraintIndex{MathOptInterface.ScalarAffineFunction{Float64}, MathOptInterface.LessThan{Float64}}, ScalarShape}}:\n",
       " cst[1] : 2 x[1] + 2 x[2] + 2 x[3] + 0.6 x[4] + 0.3 x[5] ≤ 750\n",
       " cst[2] : 0.04 x[2] + 0.08 x[3] + 0.09 x[4] + 0.135 x[5] ≤ 30.75"
      ]
     },
     "execution_count": 15,
     "metadata": {},
     "output_type": "execute_result"
    }
   ],
   "source": [
    "model2 = Model(GLPK.Optimizer)\n",
    "@variable(model2, x[1:m] >= 0)\n",
    "@objective(model2, Max, sum(c[j]*x[j] for j=1:m))\n",
    "@constraint(model2, cst[i=1:n], sum(T[i,j]*x[j] for j=1:m) <= d[i])"
   ]
  },
  {
   "cell_type": "code",
   "execution_count": 16,
   "id": "2e7af5ac-aa52-4bab-9ca0-69fd4feb737f",
   "metadata": {},
   "outputs": [
    {
     "data": {
      "text/latex": [
       "$$ \\begin{aligned}\n",
       "\\max\\quad & 0.1 x_{1} + 0.15 x_{2} + 0.2 x_{3} + 0.5 x_{4} + 1.2 x_{5}\\\\\n",
       "\\text{Subject to} \\quad & 2 x_{1} + 2 x_{2} + 2 x_{3} + 0.6 x_{4} + 0.3 x_{5} \\leq 750\\\\\n",
       " & 0.04 x_{2} + 0.08 x_{3} + 0.09 x_{4} + 0.135 x_{5} \\leq 30.75\\\\\n",
       " & x_{1} \\geq 0\\\\\n",
       " & x_{2} \\geq 0\\\\\n",
       " & x_{3} \\geq 0\\\\\n",
       " & x_{4} \\geq 0\\\\\n",
       " & x_{5} \\geq 0\\\\\n",
       "\\end{aligned} $$"
      ]
     },
     "metadata": {},
     "output_type": "display_data"
    }
   ],
   "source": [
    "print(model2)"
   ]
  },
  {
   "cell_type": "code",
   "execution_count": 17,
   "id": "01e49e1a-4aac-4724-b0ed-1b28c865041c",
   "metadata": {},
   "outputs": [],
   "source": [
    "optimize!(model2)"
   ]
  },
  {
   "cell_type": "code",
   "execution_count": 18,
   "id": "b0752e24-1f10-492f-87c9-2ce6233f7b30",
   "metadata": {},
   "outputs": [
    {
     "name": "stdout",
     "output_type": "stream",
     "text": [
      "termination_status(model2) = MathOptInterface.OPTIMAL\n",
      "primal_status(model2) = MathOptInterface.FEASIBLE_POINT\n"
     ]
    },
    {
     "data": {
      "text/plain": [
       "FEASIBLE_POINT::ResultStatusCode = 1"
      ]
     },
     "execution_count": 18,
     "metadata": {},
     "output_type": "execute_result"
    }
   ],
   "source": [
    "@show termination_status(model2)\n",
    "@show primal_status(model2)"
   ]
  },
  {
   "cell_type": "code",
   "execution_count": 19,
   "id": "9dfb15be-08e7-4d18-8d55-e9c08d51cd37",
   "metadata": {},
   "outputs": [
    {
     "name": "stdout",
     "output_type": "stream",
     "text": [
      "objective_value(model2) = 307.41666666666663\n",
      "value.(x) = [340.8333333333333, 0.0, 0.0, 0.0, 227.77777777777777]\n"
     ]
    },
    {
     "data": {
      "text/plain": [
       "5-element Vector{Float64}:\n",
       " 340.8333333333333\n",
       "   0.0\n",
       "   0.0\n",
       "   0.0\n",
       " 227.77777777777777"
      ]
     },
     "execution_count": 19,
     "metadata": {},
     "output_type": "execute_result"
    }
   ],
   "source": [
    "@show objective_value(model2)\n",
    "@show value.(x)"
   ]
  },
  {
   "cell_type": "code",
   "execution_count": 21,
   "id": "5a4c208c-9690-42f3-a450-9608603c1122",
   "metadata": {},
   "outputs": [
    {
     "data": {
      "text/plain": [
       "* Solver : GLPK\n",
       "\n",
       "* Status\n",
       "  Result count       : 1\n",
       "  Termination status : OPTIMAL\n",
       "  Message from the solver:\n",
       "  \"Solution is optimal\"\n",
       "\n",
       "* Candidate solution (result #1)\n",
       "  Primal status      : FEASIBLE_POINT\n",
       "  Dual status        : FEASIBLE_POINT\n",
       "  Objective value    : 3.07417e+02\n",
       "  Objective bound    : Inf\n",
       "  Dual objective value : 3.07417e+02\n",
       "\n",
       "* Work counters\n",
       "  Solve time (sec)   : 2.19345e-05\n"
      ]
     },
     "execution_count": 21,
     "metadata": {},
     "output_type": "execute_result"
    }
   ],
   "source": [
    "solution_summary(model2)"
   ]
  },
  {
   "cell_type": "markdown",
   "id": "99c9d794-e6ac-4873-b11b-81a6a5847067",
   "metadata": {},
   "source": [
    "(b) MUCOW is told of a regulation change: 'skimmed milk' can now contain anything up to 0.1% milk-fat, but no more. How does the formulation of the problem change? \n",
    "\n",
    "The change in the formula will be only in constraint for available fet for skimmed milk"
   ]
  },
  {
   "cell_type": "code",
   "execution_count": 26,
   "id": "f0e07a90-ded9-4837-9c63-b41e560001eb",
   "metadata": {},
   "outputs": [
    {
     "data": {
      "text/plain": [
       "(2, 5)"
      ]
     },
     "execution_count": 26,
     "metadata": {},
     "output_type": "execute_result"
    }
   ],
   "source": [
    "c = [0.1, 0.15, 0.2, 0.5, 1.2]\n",
    "d = [750 30.75]\n",
    "T = [2 2 2 0.6 0.3 ;0.01 0.04 0.08 0.09 0.135]\n",
    "n, m = size(T)"
   ]
  },
  {
   "cell_type": "code",
   "execution_count": 27,
   "id": "e1ffd61e-9d59-46e0-a71c-9a18ff4dd6c9",
   "metadata": {},
   "outputs": [
    {
     "data": {
      "text/plain": [
       "2-element Vector{ConstraintRef{Model, MathOptInterface.ConstraintIndex{MathOptInterface.ScalarAffineFunction{Float64}, MathOptInterface.LessThan{Float64}}, ScalarShape}}:\n",
       " cst[1] : 2 x[1] + 2 x[2] + 2 x[3] + 0.6 x[4] + 0.3 x[5] ≤ 750\n",
       " cst[2] : 0.01 x[1] + 0.04 x[2] + 0.08 x[3] + 0.09 x[4] + 0.135 x[5] ≤ 30.75"
      ]
     },
     "execution_count": 27,
     "metadata": {},
     "output_type": "execute_result"
    }
   ],
   "source": [
    "model3 = Model(GLPK.Optimizer)\n",
    "@variable(model3, x[1:m] >= 0)\n",
    "@objective(model3, Max, sum(c[j]*x[j] for j=1:m))\n",
    "@constraint(model3, cst[i=1:n], sum(T[i,j]*x[j] for j=1:m) <= d[i])"
   ]
  },
  {
   "cell_type": "code",
   "execution_count": 28,
   "id": "cb7acf70-d3e9-48cf-ad49-817a70a6a795",
   "metadata": {},
   "outputs": [
    {
     "data": {
      "text/latex": [
       "$$ \\begin{aligned}\n",
       "\\max\\quad & 0.1 x_{1} + 0.15 x_{2} + 0.2 x_{3} + 0.5 x_{4} + 1.2 x_{5}\\\\\n",
       "\\text{Subject to} \\quad & 2 x_{1} + 2 x_{2} + 2 x_{3} + 0.6 x_{4} + 0.3 x_{5} \\leq 750\\\\\n",
       " & 0.01 x_{1} + 0.04 x_{2} + 0.08 x_{3} + 0.09 x_{4} + 0.135 x_{5} \\leq 30.75\\\\\n",
       " & x_{1} \\geq 0\\\\\n",
       " & x_{2} \\geq 0\\\\\n",
       " & x_{3} \\geq 0\\\\\n",
       " & x_{4} \\geq 0\\\\\n",
       " & x_{5} \\geq 0\\\\\n",
       "\\end{aligned} $$"
      ]
     },
     "metadata": {},
     "output_type": "display_data"
    }
   ],
   "source": [
    "print(model3)"
   ]
  },
  {
   "cell_type": "code",
   "execution_count": 29,
   "id": "6753fb42-9264-4e02-81d4-c8cca6473370",
   "metadata": {},
   "outputs": [],
   "source": [
    "optimize!(model3)"
   ]
  },
  {
   "cell_type": "code",
   "execution_count": 30,
   "id": "303aad1f-4da0-44e6-a8b0-4ba17bc8724f",
   "metadata": {},
   "outputs": [
    {
     "name": "stdout",
     "output_type": "stream",
     "text": [
      "objective_value(model3) = 277.16292134831457\n",
      "value.(x) = [344.66292134831457, 0.0, 0.0, 0.0, 202.24719101123594]\n"
     ]
    },
    {
     "data": {
      "text/plain": [
       "5-element Vector{Float64}:\n",
       " 344.66292134831457\n",
       "   0.0\n",
       "   0.0\n",
       "   0.0\n",
       " 202.24719101123594"
      ]
     },
     "execution_count": 30,
     "metadata": {},
     "output_type": "execute_result"
    }
   ],
   "source": [
    "@show objective_value(model3)\n",
    "@show value.(x)"
   ]
  },
  {
   "cell_type": "code",
   "execution_count": 31,
   "id": "6369861c-77e4-4115-8a62-d4a282edeb36",
   "metadata": {},
   "outputs": [
    {
     "data": {
      "text/plain": [
       "* Solver : GLPK\n",
       "\n",
       "* Status\n",
       "  Result count       : 1\n",
       "  Termination status : OPTIMAL\n",
       "  Message from the solver:\n",
       "  \"Solution is optimal\"\n",
       "\n",
       "* Candidate solution (result #1)\n",
       "  Primal status      : FEASIBLE_POINT\n",
       "  Dual status        : FEASIBLE_POINT\n",
       "  Objective value    : 2.77163e+02\n",
       "  Objective bound    : Inf\n",
       "  Dual objective value : 2.77163e+02\n",
       "\n",
       "* Work counters\n",
       "  Solve time (sec)   : 5.91278e-05\n"
      ]
     },
     "execution_count": 31,
     "metadata": {},
     "output_type": "execute_result"
    }
   ],
   "source": [
    "solution_summary(model3)"
   ]
  },
  {
   "cell_type": "markdown",
   "id": "4873808e-7e6e-42d5-b427-4c29ec54d27d",
   "metadata": {},
   "source": [
    "## Answer\n",
    "(a) The optimal number of items to produce is 340.8 items of skimmed milk and 227.8 items of whipped cream.\\\n",
    "Total revenue will be $307.4\n",
    "\n",
    "(b) The optimal number of items to produce is 344.7 items of skimmed milk and 202.2 items of whipped cream.\\\n",
    "Total revenue will be $277.2"
   ]
  },
  {
   "cell_type": "markdown",
   "id": "f5eb1ab6-39fb-474c-93c5-124defac2a66",
   "metadata": {
    "jp-MarkdownHeadingCollapsed": true
   },
   "source": [
    "# Exercise 3"
   ]
  },
  {
   "cell_type": "markdown",
   "id": "a7b580ae-fcba-4c0c-ae73-ce17c8667c91",
   "metadata": {},
   "source": [
    "You are about to trek across the desert with a vehicle having 3.6 cubic metres of cargo space for goods. There are various types of items available for putting in this space, each with a different volume and a different net value for your trip, shown as follows:"
   ]
  },
  {
   "cell_type": "markdown",
   "id": "2cf2579c-086b-4ee8-bbea-3bd91cc964b3",
   "metadata": {},
   "source": [
    "|Item type i|1|2|3|4|5|6|7|\n",
    "|---|---|---|---|---|---|---|---|\n",
    "|Volume $v_i$|0.55|0.6|0.7|0.75|0.85|0.9|0.95|\n",
    "|Net value $n_i$|250|300|500|700|750|900|950|"
   ]
  },
  {
   "cell_type": "markdown",
   "id": "258bb1da-666e-4409-929c-859fca6b1038",
   "metadata": {},
   "source": [
    "(a) You need to decide which items to take, not exceeding the volume constraint. You can take at most one of any item. No item can be split into fractions. The total net value must be maximized. Formulate this problem as an LP or IP."
   ]
  },
  {
   "cell_type": "markdown",
   "id": "89266374-2661-44df-ab1d-e0d0dacb7350",
   "metadata": {},
   "source": [
    "Formulating as a LP problem: let $x_1, x_2, x_3, x_4, x_5, x_6, x_7$ be the indicatiors if the item should be taken or not. \\\n",
    "Then: \\\n",
    "max z(x) =    $250x_1 + 300x_2 + 500x_3 + 700x_4 + 750x_5 + 900x_6 + 950x_7$                                            (0) - maximizing overall profit \\\n",
    "                     $0.55x_1 + 0.6x_2 + 0.7x_3 + 0.75x_4 + 0.85x_5 + 0.9x_6 + 0.95x_7 <= 3.6$                                   (1) - constraint for volume \\\n",
    "                     $x_1, x_2, x_3, x_4, x_5, x_6, x_7 \\in \\{0; 1\\}$                                                                           (3) - number items can't be negative \\"
   ]
  },
  {
   "cell_type": "code",
   "execution_count": 34,
   "id": "421f760d-2ddd-4358-937b-4cc9c18b1abe",
   "metadata": {},
   "outputs": [
    {
     "data": {
      "text/plain": [
       "(1, 7)"
      ]
     },
     "execution_count": 34,
     "metadata": {},
     "output_type": "execute_result"
    }
   ],
   "source": [
    "c = [250, 300, 500, 700, 750, 900, 950]\n",
    "d = [3.6]\n",
    "T = [0.55 0.6 0.7 0.75 0.85 0.9 0.95]\n",
    "n, m = size(T)"
   ]
  },
  {
   "cell_type": "code",
   "execution_count": 35,
   "id": "1cff84ef-075d-48cf-8909-c6c421cb76d7",
   "metadata": {},
   "outputs": [
    {
     "data": {
      "text/plain": [
       "1-element Vector{ConstraintRef{Model, MathOptInterface.ConstraintIndex{MathOptInterface.ScalarAffineFunction{Float64}, MathOptInterface.LessThan{Float64}}, ScalarShape}}:\n",
       " cst[1] : 0.55 x[1] + 0.6 x[2] + 0.7 x[3] + 0.75 x[4] + 0.85 x[5] + 0.9 x[6] + 0.95 x[7] ≤ 3.6"
      ]
     },
     "execution_count": 35,
     "metadata": {},
     "output_type": "execute_result"
    }
   ],
   "source": [
    "model4 = Model(GLPK.Optimizer)\n",
    "@variable(model4, x[1:m], Bin)\n",
    "@objective(model4, Max, sum(c[j]*x[j] for j=1:m))\n",
    "@constraint(model4, cst[i=1:n], sum(T[i,j]*x[j] for j=1:m) <= d[i])"
   ]
  },
  {
   "cell_type": "code",
   "execution_count": 36,
   "id": "d31590e5-75c8-447e-beb5-a063750d53c2",
   "metadata": {},
   "outputs": [
    {
     "data": {
      "text/latex": [
       "$$ \\begin{aligned}\n",
       "\\max\\quad & 250 x_{1} + 300 x_{2} + 500 x_{3} + 700 x_{4} + 750 x_{5} + 900 x_{6} + 950 x_{7}\\\\\n",
       "\\text{Subject to} \\quad & 0.55 x_{1} + 0.6 x_{2} + 0.7 x_{3} + 0.75 x_{4} + 0.85 x_{5} + 0.9 x_{6} + 0.95 x_{7} \\leq 3.6\\\\\n",
       " & x_{1} \\in \\{0, 1\\}\\\\\n",
       " & x_{2} \\in \\{0, 1\\}\\\\\n",
       " & x_{3} \\in \\{0, 1\\}\\\\\n",
       " & x_{4} \\in \\{0, 1\\}\\\\\n",
       " & x_{5} \\in \\{0, 1\\}\\\\\n",
       " & x_{6} \\in \\{0, 1\\}\\\\\n",
       " & x_{7} \\in \\{0, 1\\}\\\\\n",
       "\\end{aligned} $$"
      ]
     },
     "metadata": {},
     "output_type": "display_data"
    }
   ],
   "source": [
    "print(model4)"
   ]
  },
  {
   "cell_type": "code",
   "execution_count": 37,
   "id": "874e4e73-5d2b-4ceb-867d-f85d11703743",
   "metadata": {},
   "outputs": [],
   "source": [
    "optimize!(model4)"
   ]
  },
  {
   "cell_type": "code",
   "execution_count": 38,
   "id": "2f086a4a-08fe-4b45-b75e-fb683b0c2f6d",
   "metadata": {},
   "outputs": [
    {
     "name": "stdout",
     "output_type": "stream",
     "text": [
      "termination_status(model4) = MathOptInterface.OPTIMAL\n",
      "primal_status(model4) = MathOptInterface.FEASIBLE_POINT\n"
     ]
    },
    {
     "data": {
      "text/plain": [
       "FEASIBLE_POINT::ResultStatusCode = 1"
      ]
     },
     "execution_count": 38,
     "metadata": {},
     "output_type": "execute_result"
    }
   ],
   "source": [
    "@show termination_status(model4)\n",
    "@show primal_status(model4)"
   ]
  },
  {
   "cell_type": "code",
   "execution_count": 39,
   "id": "e61553a1-7d07-4ffb-a5cc-8ee0744674c9",
   "metadata": {},
   "outputs": [
    {
     "name": "stdout",
     "output_type": "stream",
     "text": [
      "objective_value(model4) = 3300.0\n",
      "value.(x) = [0.0, 0.0, 0.0, 1.0, 1.0, 1.0, 1.0]\n"
     ]
    },
    {
     "data": {
      "text/plain": [
       "7-element Vector{Float64}:\n",
       " 0.0\n",
       " 0.0\n",
       " 0.0\n",
       " 1.0\n",
       " 1.0\n",
       " 1.0\n",
       " 1.0"
      ]
     },
     "execution_count": 39,
     "metadata": {},
     "output_type": "execute_result"
    }
   ],
   "source": [
    "@show objective_value(model4)\n",
    "@show value.(x)"
   ]
  },
  {
   "cell_type": "code",
   "execution_count": 40,
   "id": "0e94760e-d0b7-417e-8391-24dd51df1e00",
   "metadata": {},
   "outputs": [
    {
     "data": {
      "text/plain": [
       "* Solver : GLPK\n",
       "\n",
       "* Status\n",
       "  Result count       : 1\n",
       "  Termination status : OPTIMAL\n",
       "  Message from the solver:\n",
       "  \"Solution is optimal\"\n",
       "\n",
       "* Candidate solution (result #1)\n",
       "  Primal status      : FEASIBLE_POINT\n",
       "  Dual status        : NO_SOLUTION\n",
       "  Objective value    : 3.30000e+03\n",
       "  Objective bound    : 3.30000e+03\n",
       "  Relative gap       : 1.51515e-02\n",
       "\n",
       "* Work counters\n",
       "  Solve time (sec)   : 4.14991e-03\n"
      ]
     },
     "execution_count": 40,
     "metadata": {},
     "output_type": "execute_result"
    }
   ],
   "source": [
    "solution_summary(model4)"
   ]
  },
  {
   "cell_type": "markdown",
   "id": "ef387da2-5ffd-4e3c-8ddb-0f3fdeb3bdd1",
   "metadata": {},
   "source": [
    "(b) Your two friends have decided to come as well, each with an identical vehicle. There are exactly two items of each type. The question is, can you fit all 14 items in the vehicles without exceeding the volume comstraints? No cutting items into pieces is permitted! Each item taken must be placed entirely in one of the vehicles. Net value is ignored for this part."
   ]
  },
  {
   "cell_type": "markdown",
   "id": "91546827-9f13-438a-9eb2-e58cdba251a0",
   "metadata": {},
   "source": [
    "In this case we will be moving from the point, that we are solving bin packing problem and trying to assign all items into 3 vehicles.\\\n",
    "If the solution will be feasible, then we can fit all items into our vehicles.\\\n",
    "Let's formulate bin packing problem for our case. Let be:\\\n",
    "$x_{ij}$ - represents if item $j$ goes to vehicle $i$\\\n",
    "$y_i$ - if the $i$ vehicle is used\\\n",
    "$v_j$ - volume of the item $j$\\\n",
    "\n",
    "$minimize \\sum_{i=1}^{3}y_i$ \\\n",
    "$\\sum_{j=1}^{7}v_jx_{ij} <= 3.6y_j$       $i$ = 1..$3$\\\n",
    "$\\sum_{i=1}^{3}x_{ij} = 2$,                    $j$ = 1..7\\\n",
    "$x_{ij} \\in \\{0; 1\\}$                       $i$ = 1..$3$, $j$ = 1..7\\\n",
    "$y_i \\in \\{0; 1\\}$                        $i$ = 1..$3$\n",
    "\n",
    "So the feasable solution for the task can be reached, if the optimizer finds a solution for this problem.\\\n",
    "To determine how to pack items into vehicles, parameter $x_{ij}$ shows to which vehicle each item is assigned "
   ]
  },
  {
   "cell_type": "code",
   "execution_count": 13,
   "id": "9c1f4503-cff9-4dac-aac4-8870ce82d6d6",
   "metadata": {},
   "outputs": [
    {
     "data": {
      "text/plain": [
       "3-element Vector{ConstraintRef{Model, MathOptInterface.ConstraintIndex{MathOptInterface.ScalarAffineFunction{Float64}, MathOptInterface.LessThan{Float64}}, ScalarShape}}:\n",
       " bin_capacity[1] : 0.55 x[1,1] + 0.6 x[2,1] + 0.7 x[3,1] + 0.75 x[4,1] + 0.85 x[5,1] + 0.9 x[6,1] + 0.95 x[7,1] ≤ 3.6\n",
       " bin_capacity[2] : 0.55 x[1,2] + 0.6 x[2,2] + 0.7 x[3,2] + 0.75 x[4,2] + 0.85 x[5,2] + 0.9 x[6,2] + 0.95 x[7,2] ≤ 3.6\n",
       " bin_capacity[3] : 0.55 x[1,3] + 0.6 x[2,3] + 0.7 x[3,3] + 0.75 x[4,3] + 0.85 x[5,3] + 0.9 x[6,3] + 0.95 x[7,3] ≤ 3.6"
      ]
     },
     "execution_count": 13,
     "metadata": {},
     "output_type": "execute_result"
    }
   ],
   "source": [
    "T = [0.55 0.6 0.7 0.75 0.85 0.9 0.95]\n",
    "model5 = Model(GLPK.Optimizer)\n",
    "@variable(model5, x[1:7, 1:3], Bin)\n",
    "@objective(model5, Min, sum(x[i, j] for i in 1:7, j in 1:3))\n",
    "@constraint(model5, item_assignment[i=1:7], sum(x[i, j] for j in 1:3) == 2)\n",
    "@constraint(model5, bin_capacity[j=1:3], sum(T[i] * x[i, j] for i in 1:7) <= 3.6)"
   ]
  },
  {
   "cell_type": "code",
   "execution_count": 14,
   "id": "392d94c6-abec-47d7-be7e-9620e0d84c47",
   "metadata": {},
   "outputs": [
    {
     "data": {
      "text/latex": [
       "$$ \\begin{aligned}\n",
       "\\min\\quad & x_{1,1} + x_{1,2} + x_{1,3} + x_{2,1} + x_{2,2} + x_{2,3} + x_{3,1} + x_{3,2} + x_{3,3} + x_{4,1} + x_{4,2} + x_{4,3} + x_{5,1} + x_{5,2} + x_{5,3} + x_{6,1} + x_{6,2} + x_{6,3} + x_{7,1} + x_{7,2} + x_{7,3}\\\\\n",
       "\\text{Subject to} \\quad & x_{1,1} + x_{1,2} + x_{1,3} = 2\\\\\n",
       " & x_{2,1} + x_{2,2} + x_{2,3} = 2\\\\\n",
       " & x_{3,1} + x_{3,2} + x_{3,3} = 2\\\\\n",
       " & x_{4,1} + x_{4,2} + x_{4,3} = 2\\\\\n",
       " & x_{5,1} + x_{5,2} + x_{5,3} = 2\\\\\n",
       " & x_{6,1} + x_{6,2} + x_{6,3} = 2\\\\\n",
       " & x_{7,1} + x_{7,2} + x_{7,3} = 2\\\\\n",
       " & 0.55 x_{1,1} + 0.6 x_{2,1} + 0.7 x_{3,1} + 0.75 x_{4,1} + 0.85 x_{5,1} + 0.9 x_{6,1} + 0.95 x_{7,1} \\leq 3.6\\\\\n",
       " & 0.55 x_{1,2} + 0.6 x_{2,2} + 0.7 x_{3,2} + 0.75 x_{4,2} + 0.85 x_{5,2} + 0.9 x_{6,2} + 0.95 x_{7,2} \\leq 3.6\\\\\n",
       " & 0.55 x_{1,3} + 0.6 x_{2,3} + 0.7 x_{3,3} + 0.75 x_{4,3} + 0.85 x_{5,3} + 0.9 x_{6,3} + 0.95 x_{7,3} \\leq 3.6\\\\\n",
       " & x_{1,1} \\in \\{0, 1\\}\\\\\n",
       " & x_{2,1} \\in \\{0, 1\\}\\\\\n",
       " & x_{3,1} \\in \\{0, 1\\}\\\\\n",
       " & x_{4,1} \\in \\{0, 1\\}\\\\\n",
       " & x_{5,1} \\in \\{0, 1\\}\\\\\n",
       " & x_{6,1} \\in \\{0, 1\\}\\\\\n",
       " & x_{7,1} \\in \\{0, 1\\}\\\\\n",
       " & x_{1,2} \\in \\{0, 1\\}\\\\\n",
       " & x_{2,2} \\in \\{0, 1\\}\\\\\n",
       " & x_{3,2} \\in \\{0, 1\\}\\\\\n",
       " & x_{4,2} \\in \\{0, 1\\}\\\\\n",
       " & x_{5,2} \\in \\{0, 1\\}\\\\\n",
       " & x_{6,2} \\in \\{0, 1\\}\\\\\n",
       " & x_{7,2} \\in \\{0, 1\\}\\\\\n",
       " & x_{1,3} \\in \\{0, 1\\}\\\\\n",
       " & x_{2,3} \\in \\{0, 1\\}\\\\\n",
       " & x_{3,3} \\in \\{0, 1\\}\\\\\n",
       " & x_{4,3} \\in \\{0, 1\\}\\\\\n",
       " & x_{5,3} \\in \\{0, 1\\}\\\\\n",
       " & x_{6,3} \\in \\{0, 1\\}\\\\\n",
       " & x_{7,3} \\in \\{0, 1\\}\\\\\n",
       "\\end{aligned} $$"
      ]
     },
     "metadata": {},
     "output_type": "display_data"
    }
   ],
   "source": [
    "print(model5)"
   ]
  },
  {
   "cell_type": "code",
   "execution_count": 15,
   "id": "3282225f-9d89-403b-a602-814823fead08",
   "metadata": {},
   "outputs": [],
   "source": [
    "optimize!(model5)"
   ]
  },
  {
   "cell_type": "code",
   "execution_count": 16,
   "id": "a730ae41-c3e3-484c-8340-e45edd14dfee",
   "metadata": {},
   "outputs": [
    {
     "name": "stdout",
     "output_type": "stream",
     "text": [
      "termination_status(model5) = MathOptInterface.OPTIMAL\n",
      "primal_status(model5) = MathOptInterface.FEASIBLE_POINT\n"
     ]
    },
    {
     "data": {
      "text/plain": [
       "FEASIBLE_POINT::ResultStatusCode = 1"
      ]
     },
     "execution_count": 16,
     "metadata": {},
     "output_type": "execute_result"
    }
   ],
   "source": [
    "@show termination_status(model5)\n",
    "@show primal_status(model5)"
   ]
  },
  {
   "cell_type": "markdown",
   "id": "72a7b94a-1d58-44c7-8b10-d89cbfa66acd",
   "metadata": {},
   "source": [
    "Feasible solution is found, which means we can assign all items into 3 vehicles.\\\n",
    "Let's see how they are assigned"
   ]
  },
  {
   "cell_type": "code",
   "execution_count": 17,
   "id": "beee4882-19d9-4474-b69e-af55f8bb6c9b",
   "metadata": {},
   "outputs": [
    {
     "name": "stdout",
     "output_type": "stream",
     "text": [
      "objective_value(model5) = 14.0\n",
      "value.(x) = [1.0 1.0 0.0; 1.0 1.0 0.0; 1.0 1.0 0.0; 0.0 1.0 1.0; 1.0 0.0 1.0; 1.0 0.0 1.0; 0.0 1.0 1.0]\n"
     ]
    },
    {
     "data": {
      "text/plain": [
       "7×3 Matrix{Float64}:\n",
       " 1.0  1.0  0.0\n",
       " 1.0  1.0  0.0\n",
       " 1.0  1.0  0.0\n",
       " 0.0  1.0  1.0\n",
       " 1.0  0.0  1.0\n",
       " 1.0  0.0  1.0\n",
       " 0.0  1.0  1.0"
      ]
     },
     "execution_count": 17,
     "metadata": {},
     "output_type": "execute_result"
    }
   ],
   "source": [
    "@show objective_value(model5)\n",
    "@show value.(x)"
   ]
  },
  {
   "cell_type": "markdown",
   "id": "938cc69c-c81c-4c3d-98f3-021f1636e3fb",
   "metadata": {},
   "source": [
    "## Answer\n",
    "To the 1 vehicle go items: 1, 2, 3, 5, 6 (sum 3.6)\\\n",
    "To the 2 vehicle go items: 1, 2, 3, 4, 7 (sum 3.55)\\\n",
    "To the 3 vehicle go items: 4, 5, 6, 7 (sum 3.45)"
   ]
  },
  {
   "cell_type": "markdown",
   "id": "913318f8-7b1a-44fd-9de0-526b764f8b31",
   "metadata": {
    "jp-MarkdownHeadingCollapsed": true
   },
   "source": [
    "# Exercise 4\n",
    "Consider a public swimming pool. In the following table, we give a list of seven potential lifeguards. For each lifeguard, we have the time he/she wants to start and finish work and how much he/she wishes to be paid for the work. The problem is to find a selection of lifeguards so that there is at least one (but possibly more than one) lifeguard present at each time between 1pm and 9pm. "
   ]
  },
  {
   "cell_type": "markdown",
   "id": "b07d8da2-4e21-496f-8e2b-f106f66e2c61",
   "metadata": {},
   "source": [
    "|Lifeguards|Joy|Dean|Tim|Celicia|Beth|Ivar|Eilene|\n",
    "|---|---|---|---|---|---|---|---|\n",
    "|Hours|1-5|1-3|4-7|4-9|6-9|5-8|8-9|\n",
    "|Amount required|30|18|21|38|20|22|9|"
   ]
  },
  {
   "cell_type": "markdown",
   "id": "1db8a1eb-0905-4886-b0c1-800f263a81dc",
   "metadata": {},
   "source": [
    "Formulate this problem as an IP."
   ]
  },
  {
   "cell_type": "markdown",
   "id": "19741b0a-e72b-4dfd-84eb-672544cb1104",
   "metadata": {},
   "source": [
    "Formulating an IP problem. Let $x_i$ be a note whether to select $i$ lifeguard or not.\\\n",
    "$c_i$ is the amount required by the $i$ lifeguard.\\\n",
    "Then the problem can be formulated as:\\\n",
    "$minimize \\sum_{i}c_i*x_i$ - minimize the required amount for lifeguards\\\n",
    "Let matrix $a_{ij}$ be an indicator if lifeguard $i$ is available at time $j$ \\\n",
    "Then:\\\n",
    "$\\sum_{i}a_{ij}*x_i >= 1, \\forall j$ - at least one lifeguard presents at each time\\\n",
    "$x_{ij} \\in \\{0; 1\\}$"
   ]
  },
  {
   "cell_type": "code",
   "execution_count": 58,
   "id": "e6f1ecf0-de8d-4521-87bb-ac47e3fdf6df",
   "metadata": {},
   "outputs": [
    {
     "data": {
      "text/plain": [
       "7-element Vector{Int64}:\n",
       " 30\n",
       " 18\n",
       " 21\n",
       " 38\n",
       " 20\n",
       " 22\n",
       "  9"
      ]
     },
     "execution_count": 58,
     "metadata": {},
     "output_type": "execute_result"
    }
   ],
   "source": [
    "hours = [\n",
    "    1 1 1 1 1 0 0 0 0;\n",
    "    1 1 1 0 0 0 0 0 0;\n",
    "    0 0 0 1 1 1 1 0 0;\n",
    "    0 0 0 1 1 1 1 1 1;\n",
    "    0 0 0 0 0 1 1 1 1;\n",
    "    0 0 0 0 1 1 1 1 0;\n",
    "    0 0 0 0 0 0 0 1 1]\n",
    "amount_required = [30, 18, 21, 38, 20, 22, 9]"
   ]
  },
  {
   "cell_type": "code",
   "execution_count": 59,
   "id": "671c0a8e-5280-4cce-baa6-05dde362c87b",
   "metadata": {},
   "outputs": [
    {
     "data": {
      "text/plain": [
       "9-element Vector{ConstraintRef{Model, MathOptInterface.ConstraintIndex{MathOptInterface.ScalarAffineFunction{Float64}, MathOptInterface.GreaterThan{Float64}}, ScalarShape}}:\n",
       " cs[1] : x[1] + x[2] ≥ 1\n",
       " cs[2] : x[1] + x[2] ≥ 1\n",
       " cs[3] : x[1] + x[2] ≥ 1\n",
       " cs[4] : x[1] + x[3] + x[4] ≥ 1\n",
       " cs[5] : x[1] + x[3] + x[4] + x[6] ≥ 1\n",
       " cs[6] : x[3] + x[4] + x[5] + x[6] ≥ 1\n",
       " cs[7] : x[3] + x[4] + x[5] + x[6] ≥ 1\n",
       " cs[8] : x[4] + x[5] + x[6] + x[7] ≥ 1\n",
       " cs[9] : x[4] + x[5] + x[7] ≥ 1"
      ]
     },
     "execution_count": 59,
     "metadata": {},
     "output_type": "execute_result"
    }
   ],
   "source": [
    "model6 = Model(GLPK.Optimizer)\n",
    "@variable(model6, x[1:length(amount_required)], Bin)\n",
    "@objective(model6, Min, sum(amount_required[i] * x[i] for i in 1:length(amount_required)))\n",
    "@constraint(model6, cs[j=1:9], sum(hours[i, j] * x[i] for i in 1:7) >= 1)"
   ]
  },
  {
   "cell_type": "code",
   "execution_count": 60,
   "id": "1356d49c-704d-4d9b-b8f2-83c42181e029",
   "metadata": {},
   "outputs": [
    {
     "data": {
      "text/latex": [
       "$$ \\begin{aligned}\n",
       "\\min\\quad & 30 x_{1} + 18 x_{2} + 21 x_{3} + 38 x_{4} + 20 x_{5} + 22 x_{6} + 9 x_{7}\\\\\n",
       "\\text{Subject to} \\quad & x_{1} + x_{2} \\geq 1\\\\\n",
       " & x_{1} + x_{2} \\geq 1\\\\\n",
       " & x_{1} + x_{2} \\geq 1\\\\\n",
       " & x_{1} + x_{3} + x_{4} \\geq 1\\\\\n",
       " & x_{1} + x_{3} + x_{4} + x_{6} \\geq 1\\\\\n",
       " & x_{3} + x_{4} + x_{5} + x_{6} \\geq 1\\\\\n",
       " & x_{3} + x_{4} + x_{5} + x_{6} \\geq 1\\\\\n",
       " & x_{4} + x_{5} + x_{6} + x_{7} \\geq 1\\\\\n",
       " & x_{4} + x_{5} + x_{7} \\geq 1\\\\\n",
       " & x_{1} \\in \\{0, 1\\}\\\\\n",
       " & x_{2} \\in \\{0, 1\\}\\\\\n",
       " & x_{3} \\in \\{0, 1\\}\\\\\n",
       " & x_{4} \\in \\{0, 1\\}\\\\\n",
       " & x_{5} \\in \\{0, 1\\}\\\\\n",
       " & x_{6} \\in \\{0, 1\\}\\\\\n",
       " & x_{7} \\in \\{0, 1\\}\\\\\n",
       "\\end{aligned} $$"
      ]
     },
     "metadata": {},
     "output_type": "display_data"
    }
   ],
   "source": [
    "print(model6)"
   ]
  },
  {
   "cell_type": "code",
   "execution_count": 61,
   "id": "a07fbb1d-b7d6-4b03-9d2f-53a8df841dbf",
   "metadata": {},
   "outputs": [],
   "source": [
    "optimize!(model6)"
   ]
  },
  {
   "cell_type": "code",
   "execution_count": 62,
   "id": "2929f145-cdec-4d18-89ad-48e09af7b151",
   "metadata": {},
   "outputs": [
    {
     "name": "stdout",
     "output_type": "stream",
     "text": [
      "termination_status(model6) = MathOptInterface.OPTIMAL\n",
      "primal_status(model6) = MathOptInterface.FEASIBLE_POINT\n"
     ]
    },
    {
     "data": {
      "text/plain": [
       "FEASIBLE_POINT::ResultStatusCode = 1"
      ]
     },
     "execution_count": 62,
     "metadata": {},
     "output_type": "execute_result"
    }
   ],
   "source": [
    "@show termination_status(model6)\n",
    "@show primal_status(model6)"
   ]
  },
  {
   "cell_type": "code",
   "execution_count": 63,
   "id": "f0551ae8-4db9-462f-a5ff-f46d926d24ea",
   "metadata": {},
   "outputs": [
    {
     "name": "stdout",
     "output_type": "stream",
     "text": [
      "objective_value(model6) = 48.0\n",
      "value.(x) = [0.0, 1.0, 1.0, 0.0, 0.0, 0.0, 1.0]\n"
     ]
    },
    {
     "data": {
      "text/plain": [
       "7-element Vector{Float64}:\n",
       " 0.0\n",
       " 1.0\n",
       " 1.0\n",
       " 0.0\n",
       " 0.0\n",
       " 0.0\n",
       " 1.0"
      ]
     },
     "execution_count": 63,
     "metadata": {},
     "output_type": "execute_result"
    }
   ],
   "source": [
    "@show objective_value(model6)\n",
    "@show value.(x)"
   ]
  },
  {
   "cell_type": "markdown",
   "id": "57037b99-dd38-43fc-a018-0ba2576d7915",
   "metadata": {},
   "source": [
    "## Answer\n",
    "We need to hire Dean, Tim and Eilene.\\\n",
    "The total amount to be paid is 48."
   ]
  }
 ],
 "metadata": {
  "kernelspec": {
   "display_name": "Julia 1.9.3",
   "language": "julia",
   "name": "julia-1.9"
  },
  "language_info": {
   "file_extension": ".jl",
   "mimetype": "application/julia",
   "name": "julia",
   "version": "1.9.3"
  }
 },
 "nbformat": 4,
 "nbformat_minor": 5
}
